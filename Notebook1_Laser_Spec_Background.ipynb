{
 "cells": [
  {
   "cell_type": "markdown",
   "metadata": {},
   "source": [
    "#### CMB Instrumentation Summer School 2022\n",
    "### Laser Spectroscopy: Measuring Materials' Optical Properties\n",
    "Shreya Sutariya (shreyas@uchicago.edu), ERC 568\n",
    "\n",
    "We use the **Frequency-tunable Laser Source (FLS)** to study the optical properties of materials such as absorbers, filters, anti-reflective coatings, etc that are used inside CMB telescopes. Understanding these materials as accurately as possible help us know which optical systematics can arise. We can characterize materials by taking reflection and transmission measurements on the optics bench and fitting to models to get parameters such as the loss tangent, index of refraction, etc.\n",
    "\n",
    "Today's lab will center on reflection measurements of a common plastic called high-density polyethelene (HDPE). After measuring and plotting the measurement, we will plot its simulated performance and compare. Finally, we fit to get the exact index of refraction $n$ of the material. (Time permitting we will also measure: a Low-Pass Edge (LPE) filter and non-ARC alumina).\n",
    "\n",
    "***\n",
    "#### Today's Objectives:\n",
    "- Background: Understand measurement instrument and reflection setup.\n",
    "- The Exercises are in `Notebook2_Reflection.ipynb`\n",
    "- *Exercise 1:* Take reflection measurements of our samples, note their thicknesses, and the angle of incidence in the setup.\n",
    "- *Exercise 2:* Simulate what reflection of such a material should look like.\n",
    "- *Exercise 3:* Fit our measurement to the model to get the index of refraction of our sample. <br>\n",
    "&#x2192; Bonus: We can understand a material more precisely by knowing its complex index of refraction, $\\tilde{n} = n + ik$, where the imaginary component $k$ determines the absorptivity of the material (and the real part $n$ is what we normally refer to as the index of refraction). For code that can fit to both the real and imaginary parts, use the FLS Lab Computer to do additional fits using `Notebook3_Bonus_complex_index_fits.ipynb`."
   ]
  },
  {
   "cell_type": "markdown",
   "metadata": {},
   "source": [
    "### Background: The Frequency-tunable Laser Source (FLS)\n",
    "\n",
    "The FLS is a broadband frequency source that is capable of emitting from ~20 GHz to 1200 GHz. This photomixing source and receiver package operates by using two infrared diode lasers, which emit at slightly different frequencies: $\\nu_1$ and $\\nu_2$. The difference between the two, $\\Delta \\nu = \\nu_2 - \\nu_1$, is our desired frequency, also known as the beat frequency. The two laser frequenices are incident on a photomixer and induce an oscillating photocurrent at our beat frequency in the semiconductor material of the photomixer. A log-spiral antenna then emits this photocurrent as a THz wave.\n",
    "\n",
    "Just as the laser system uses a photomixer to transmit a THz wave, it also uses a photomixer to detect it. This process involves an induced photocurrent in the receiver photomixer due to the incoming THz wave, and this photocurrent then informs us of the amplitude of the electric field of the incoming wave. We can then also use a Fiber Stretcher attachment (which changes the optical path length difference between the transmitter and receiver) to get phase information in addition to the electric field amplitude.\n",
    "\n",
    "<div>\n",
    "<img src=\"https://docs.google.com/uc?export=download&id=1BSGYNqRLzV3GDNhCGobexFV3xWT0ttOw\" width=\"400\" align='center'/>\n",
    "</div> \n",
    "\n",
    "**Fig. 1:** *Transmission Setup:* On the left we have the receiver photomixer and its collimating mirror, on the right we have the transmitter photomixer and its collimating mirror. Both photomixers are encased inside a silicon lenslet. The output from the transmitter is a beam that diverges by $~ 12-15 ^{\\circ}$. The collimating mirrors take the diverging beam and convert it into a plane wave (then take the plane wave and refocus the light into the receiver).\n",
    "\n",
    "#### Laser Electronics\n",
    "\n",
    "The figure below shows the laser electronics.\n",
    "- HV amp: High voltage amplifier\n",
    "- FS: Fiber stretcher\n",
    "- DLC Smart: Digital Controller\n",
    "\n",
    "<div>\n",
    "<img src=\"https://docs.google.com/uc?export=download&id=1r0DV51ULme7H1kFhOSpW-sMKq_moZ5K7\" width=\"400\" align='center'/>\n",
    "</div> \n",
    "\n",
    "<center><b>Fig. 2:</b> Laser electronics. </center>\n",
    "\n",
    "\n",
    "#### Laser Software\n",
    "\n",
    "We control the laser through the TOPAS Software Graphical User Interface (GUI). \n",
    "\n",
    "<div>\n",
    "<img src=\"https://docs.google.com/uc?export=download&id=1s3MEuEAXZbgB76pauBpmtgHZ2ofRJ9Qf\" width=\"1000\" align='center'/>\n",
    "</div>\n",
    "\n",
    "<center><b>Fig. 3:</b> Laser controller software. </center>"
   ]
  },
  {
   "cell_type": "markdown",
   "metadata": {},
   "source": [
    "### Background: Reflection Measurement Setup\n",
    "\n",
    "Figure 4 shows the reflection setup:\n",
    "\n",
    "<div>\n",
    "<img src=\"https://docs.google.com/uc?export=download&id=1C-7bXhRbDyw5slkeUK1yNHzMvy3EDspT\" width=\"300\" align='center'/>\n",
    "</div>\n",
    "\n",
    "<center><b>Fig. 4:</b> Reflectometry setup. </center>\n",
    "\n"
   ]
  },
  {
   "cell_type": "markdown",
   "metadata": {},
   "source": [
    "See `Notebook2_Reflection.ipynb` for a walk through on carrying out reflection measurements."
   ]
  }
 ],
 "metadata": {
  "kernelspec": {
   "display_name": "Python 3",
   "language": "python",
   "name": "python3"
  },
  "language_info": {
   "codemirror_mode": {
    "name": "ipython",
    "version": 3
   },
   "file_extension": ".py",
   "mimetype": "text/x-python",
   "name": "python",
   "nbconvert_exporter": "python",
   "pygments_lexer": "ipython3",
   "version": "3.8.5"
  }
 },
 "nbformat": 4,
 "nbformat_minor": 4
}
